{
 "cells": [
  {
   "cell_type": "markdown",
   "metadata": {},
   "source": [
    "# WeatherPy\n",
    "----\n",
    "\n",
    "#### Note\n",
    "* Instructions have been included for each segment. You do not have to follow them exactly, but they are included to help you think through the steps."
   ]
  },
  {
   "cell_type": "code",
   "execution_count": 41,
   "metadata": {},
   "outputs": [],
   "source": [
    "# Dependencies and Setup\n",
    "import matplotlib.pyplot as plt\n",
    "import json\n",
    "import pandas as pd\n",
    "import numpy as np\n",
    "import requests\n",
    "import time\n",
    "from scipy.stats import linregress\n",
    "\n",
    "# Import API key\n",
    "from api_keys import weather_api_key\n",
    "\n"
   ]
  },
  {
   "cell_type": "code",
   "execution_count": 42,
   "metadata": {
    "scrolled": true
   },
   "outputs": [],
   "source": [
    "\n",
    "# Incorporated citipy to determine city based on latitude and longitude\n",
    "from citipy import citipy\n",
    "\n",
    "# Output File (CSV)\n",
    "output_data_file = \"output_data/cities.csv\"\n",
    "\n",
    "# Range of latitudes and longitudes\n",
    "lat_range = (-90, 90)\n",
    "lng_range = (-180, 180)"
   ]
  },
  {
   "cell_type": "markdown",
   "metadata": {},
   "source": [
    "## Generate Cities List"
   ]
  },
  {
   "cell_type": "code",
   "execution_count": 43,
   "metadata": {},
   "outputs": [
    {
     "data": {
      "text/plain": [
       "621"
      ]
     },
     "execution_count": 43,
     "metadata": {},
     "output_type": "execute_result"
    }
   ],
   "source": [
    "# List for holding lat_lngs and cities\n",
    "lat_lngs = []\n",
    "cities = []\n",
    "\n",
    "# Create a set of random lat and lng combinations\n",
    "lats = np.random.uniform(lat_range[0], lat_range[1], size=1500)\n",
    "lngs = np.random.uniform(lng_range[0], lng_range[1], size=1500)\n",
    "lat_lngs = zip(lats, lngs)\n",
    "\n",
    "# Identify nearest city for each lat, lng combination\n",
    "for lat_lng in lat_lngs:\n",
    "    city = citipy.nearest_city(lat_lng[0], lat_lng[1]).city_name\n",
    "    \n",
    "    # If the city is unique, then add it to a our cities list\n",
    "    if city not in cities:\n",
    "        cities.append(city)\n",
    "\n",
    "# Print the city count to confirm sufficient count\n",
    "len(cities)"
   ]
  },
  {
   "cell_type": "markdown",
   "metadata": {},
   "source": [
    "## Perform API Calls\n",
    "* Perform a weather check on each city using a series of successive API calls.\n",
    "* Include a print log of each city as it'sbeing processed (with the city number and city name).\n"
   ]
  },
  {
   "cell_type": "code",
   "execution_count": 44,
   "metadata": {
    "scrolled": true
   },
   "outputs": [
    {
     "name": "stdout",
     "output_type": "stream",
     "text": [
      "Located city number 1 Khatanga\n",
      "Located city number 2 Tiksi\n",
      "Located city number 3 Castro\n",
      "Located city number 4 Rodrigues Alves\n",
      "Located city number 5 Punta Arenas\n",
      "Located city number 6 Ushuaia\n",
      "Located city number 7 Rikitea\n",
      "Located city number 8 Albany\n",
      "Located city number 9 Mitsamiouli\n",
      "Located city number 10 Butaritari\n",
      "Located city number 11 Bluff\n",
      "Located city number 12 Hobart\n",
      "Located city number 13 Fairbanks\n",
      "Located city number 14 Puerto Ayora\n",
      "Located city number 15 Arraial do Cabo\n",
      "Located city number 16 Qaanaaq\n",
      "Located city number 17 Tilichiki\n",
      "Located city number 18 Mataura\n",
      "Located city number 19 Xochistlahuaca\n",
      "Located city number 20 Cabo San Lucas\n",
      "Located city number 21 Kohima\n",
      "Located city number 22 Kapaa\n",
      "Located city number 23 Saint-Philippe\n",
      "Located city number 24 Qui Nhon\n",
      "Failed to find city\n",
      "Located city number 25 Cidreira\n",
      "Located city number 26 Hermanus\n",
      "Located city number 27 Hay River\n",
      "Located city number 28 Busselton\n",
      "Located city number 29 Caravelas\n",
      "Located city number 30 Coolum Beach\n",
      "Located city number 31 Mahébourg\n",
      "Failed to find city\n",
      "Located city number 32 Aksu\n",
      "Located city number 33 Yuxia\n",
      "Located city number 34 Atuona\n",
      "Located city number 35 Roald\n",
      "Located city number 36 Hong Kong\n",
      "Located city number 37 Narasannapeta\n",
      "Located city number 38 Chui\n",
      "Located city number 39 Aljezur\n",
      "Located city number 40 Marawi\n",
      "Failed to find city\n",
      "Located city number 41 Viedma\n",
      "Located city number 42 Shingū\n",
      "Located city number 43 Sioux Lookout\n",
      "Located city number 44 Cape Town\n",
      "Located city number 45 Olafsvik\n",
      "Located city number 46 Longyearbyen\n",
      "Located city number 47 Champerico\n",
      "Located city number 48 Kidal\n",
      "Failed to find city\n",
      "Failed to find city\n",
      "Located city number 49 Talnakh\n",
      "Located city number 50 Hithadhoo\n",
      "Located city number 51 Ribeira Grande\n",
      "Located city number 52 Upernavik\n",
      "Located city number 53 Santa Cruz de la Sierra\n",
      "Located city number 54 Vaini\n",
      "Located city number 55 Norman\n",
      "Located city number 56 Tuktoyaktuk\n",
      "Located city number 57 Kirakira\n",
      "Located city number 58 Chicama\n",
      "Located city number 59 Egvekinot\n",
      "Located city number 60 Port Alfred\n",
      "Located city number 61 Thompson\n",
      "Located city number 62 Coquimbo\n",
      "Located city number 63 Torbay\n",
      "Located city number 64 Puerto Escondido\n",
      "Located city number 65 Teya\n",
      "Located city number 66 Bredasdorp\n",
      "Located city number 67 Isangel\n",
      "Located city number 68 Khani\n",
      "Located city number 69 Ostrovnoy\n",
      "Located city number 70 Sibolga\n",
      "Located city number 71 Ugoofaaru\n",
      "Located city number 72 Matara\n",
      "Failed to find city\n",
      "Located city number 73 Hualmay\n",
      "Located city number 74 Campbellsville\n",
      "Located city number 75 Departamento de Maldonado\n",
      "Located city number 76 Novikovo\n",
      "Located city number 77 Ponta do Sol\n",
      "Located city number 78 Aragarças\n",
      "Failed to find city\n",
      "Located city number 79 Jamestown\n",
      "Located city number 80 San Ignacio\n",
      "Located city number 81 Loandjili\n",
      "Located city number 82 Kalianget\n",
      "Located city number 83 Iglino\n",
      "Located city number 84 Kirando\n",
      "Located city number 85 Mar del Plata\n",
      "Located city number 86 Padang\n",
      "Located city number 87 Meulaboh\n",
      "Located city number 88 Diré\n",
      "Located city number 89 Zadar\n",
      "Located city number 90 Yellowknife\n",
      "Located city number 91 Sinnamary\n",
      "Located city number 92 Avera\n",
      "Located city number 93 Utiel\n",
      "Located city number 94 Manoel Urbano\n",
      "Located city number 95 Lavrentiya\n",
      "Located city number 96 Namwala\n",
      "Located city number 97 George Town\n",
      "Located city number 98 Faya\n",
      "Located city number 99 Barrow\n",
      "Located city number 100 Wanning\n",
      "Located city number 101 Ridgetown\n",
      "Located city number 102 Vila Franca do Campo\n",
      "Failed to find city\n",
      "Located city number 103 Mezen'\n",
      "Located city number 104 Hilo\n",
      "Located city number 105 Bethel\n",
      "Located city number 106 Fortuna\n",
      "Located city number 107 Tasiilaq\n",
      "Failed to find city\n",
      "Located city number 108 Auce\n",
      "Located city number 109 Macon\n",
      "Located city number 110 Saint George\n",
      "Located city number 111 Airai\n",
      "Located city number 112 Yangi Marg`ilon\n",
      "Located city number 113 Prado\n",
      "Failed to find city\n",
      "Located city number 114 Paphos\n",
      "Located city number 115 Kavieng\n",
      "Located city number 116 Hervey Bay\n",
      "Located city number 117 Nuuk\n",
      "Failed to find city\n",
      "Located city number 118 Bengkulu\n",
      "Located city number 119 Dunedin\n",
      "Located city number 120 Valle de San Juan\n",
      "Located city number 121 Tevaitoa\n",
      "Located city number 122 Lata\n",
      "Located city number 123 Kandrian\n",
      "Located city number 124 Auray\n",
      "Failed to find city\n",
      "Located city number 125 Mossamedes\n",
      "Located city number 126 Hamina\n",
      "Located city number 127 Soyo\n",
      "Located city number 128 Rabo de Peixe\n",
      "Located city number 129 Maniitsoq\n",
      "Located city number 130 Cherskiy\n",
      "Located city number 131 São Filipe\n",
      "Located city number 132 Biak\n",
      "Located city number 133 Fenoarivo\n",
      "Located city number 134 Nhulunbuy\n",
      "Located city number 135 Katsuura\n",
      "Located city number 136 Kabare\n",
      "Located city number 137 Shache\n",
      "Located city number 138 Khromtau\n",
      "Located city number 139 Kita\n",
      "Located city number 140 Lermontovka\n",
      "Located city number 141 Porto Walter\n",
      "Located city number 142 Leningradskiy\n",
      "Located city number 143 Bagdarin\n",
      "Located city number 144 Manihāri\n",
      "Located city number 145 Srednekolymsk\n",
      "Located city number 146 Scarborough\n",
      "Located city number 147 Oranjemund\n",
      "Located city number 148 Tambopata\n",
      "Located city number 149 Jinxiang\n",
      "Located city number 150 Denpasar\n",
      "Located city number 151 Waingapu\n",
      "Located city number 152 Abu Samrah\n",
      "Located city number 153 New Norfolk\n",
      "Located city number 154 Belaya Gora\n",
      "Located city number 155 Mabaruma\n",
      "Located city number 156 Kalanguy\n",
      "Located city number 157 Taylor\n",
      "Failed to find city\n",
      "Located city number 158 Novyy Urgal\n",
      "Located city number 159 Henties Bay\n",
      "Located city number 160 Dikson\n",
      "Located city number 161 Florø\n",
      "Located city number 162 Flinders\n",
      "Located city number 163 Pangnirtung\n",
      "Located city number 164 Necochea\n",
      "Located city number 165 Karasjok\n",
      "Located city number 166 Bilibino\n",
      "Located city number 167 Topolobampo\n",
      "Located city number 168 Dingle\n",
      "Located city number 169 Saint Paul Harbor\n",
      "Located city number 170 Alexandria\n",
      "Located city number 171 Oliveira dos Brejinhos\n",
      "Located city number 172 Halifax\n",
      "Located city number 173 Lake Havasu City\n",
      "Failed to find city\n",
      "Located city number 174 Thaba-Tseka\n",
      "Located city number 175 Ribeira Brava\n",
      "Located city number 176 Loksa\n",
      "Located city number 177 Sisimiut\n",
      "Located city number 178 Chokurdakh\n",
      "Located city number 179 Poum\n",
      "Located city number 180 Kiryat Gat\n",
      "Located city number 181 Lommel\n",
      "Located city number 182 Casma\n",
      "Located city number 183 Avarua\n",
      "Located city number 184 Rocha\n",
      "Failed to find city\n",
      "Located city number 185 Coyhaique\n",
      "Located city number 186 Katherine\n",
      "Located city number 187 Esperance\n",
      "Located city number 188 San Cristobal\n",
      "Located city number 189 San Luis\n",
      "Located city number 190 Golden\n",
      "Located city number 191 São José da Coroa Grande\n",
      "Located city number 192 Faanui\n",
      "Failed to find city\n",
      "Located city number 193 Ndjolé\n",
      "Located city number 194 Bonavista\n",
      "Located city number 195 Severo-Kuril'sk\n",
      "Located city number 196 Pisco\n",
      "Located city number 197 Muros\n",
      "Located city number 198 Ixtapa\n",
      "Located city number 199 Bodden Town\n",
      "Located city number 200 Hohhot\n",
      "Located city number 201 Kaitangata\n",
      "Located city number 202 Linkou\n",
      "Located city number 203 Hamilton\n",
      "Located city number 204 Mandalgovi\n",
      "Located city number 205 Bhabhua\n",
      "Located city number 206 Hokitika\n",
      "Located city number 207 Darhan\n",
      "Located city number 208 Iqaluit\n",
      "Located city number 209 Hauterive\n",
      "Located city number 210 Laguna\n",
      "Located city number 211 Saskylakh\n",
      "Failed to find city\n",
      "Located city number 212 Tahe\n",
      "Located city number 213 Emba\n",
      "Located city number 214 Acajutla\n",
      "Located city number 215 Tūkrah\n",
      "Located city number 216 Skała\n",
      "Located city number 217 Hasaki\n",
      "Located city number 218 Davila\n",
      "Located city number 219 Hibbing\n",
      "Located city number 220 Urengoy\n",
      "Located city number 221 Pataias\n",
      "Located city number 222 Boa Vista\n",
      "Located city number 223 São João da Barra\n",
      "Located city number 224 Klaksvík\n",
      "Located city number 225 Vestmannaeyjar\n",
      "Located city number 226 Livingston\n",
      "Located city number 227 São Raimundo Nonato\n",
      "Located city number 228 Port-Gentil\n",
      "Located city number 229 Pa Sang\n",
      "Located city number 230 Bratsk\n",
      "Located city number 231 Esim\n",
      "Located city number 232 Bambous Virieux\n",
      "Located city number 233 Bilma\n",
      "Located city number 234 Mahibadhoo\n",
      "Located city number 235 Bathsheba\n",
      "Located city number 236 Balabac\n",
      "Located city number 237 Pevek\n"
     ]
    },
    {
     "name": "stdout",
     "output_type": "stream",
     "text": [
      "Located city number 238 Farsund\n",
      "Located city number 239 Kopavogur\n",
      "Located city number 240 Touros\n",
      "Located city number 241 Mabai\n",
      "Located city number 242 Turukhansk\n",
      "Failed to find city\n",
      "Located city number 243 Ahipara\n",
      "Located city number 244 Juba\n",
      "Located city number 245 Omboué\n",
      "Located city number 246 Ola\n",
      "Located city number 247 Gaspé\n",
      "Failed to find city\n",
      "Located city number 248 Santa Clara\n",
      "Located city number 249 Fărcaşa\n",
      "Failed to find city\n",
      "Failed to find city\n",
      "Located city number 250 Lompoc\n",
      "Failed to find city\n",
      "Located city number 251 Cabo Rojo\n",
      "Located city number 252 Verkhnetulomskiy\n",
      "Located city number 253 Pitimbu\n",
      "Located city number 254 Zelenoborsk\n",
      "Located city number 255 Marmande\n",
      "Located city number 256 Camacha\n",
      "Located city number 257 Dubbo\n",
      "Located city number 258 Kalininsk\n",
      "Located city number 259 Zhigansk\n",
      "Located city number 260 Norman Wells\n",
      "Located city number 261 Tefé\n",
      "Located city number 262 Kargasok\n",
      "Located city number 263 Port Lincoln\n",
      "Located city number 264 Quthing\n",
      "Located city number 265 Garoowe\n",
      "Located city number 266 Te Anau\n",
      "Located city number 267 Algiers\n",
      "Failed to find city\n",
      "Located city number 268 Mehamn\n",
      "Located city number 269 Deputatsky\n",
      "Located city number 270 Ilulissat\n",
      "Located city number 271 Vostok\n",
      "Located city number 272 Alpinópolis\n",
      "Located city number 273 Sterling\n",
      "Located city number 274 Nortelândia\n",
      "Located city number 275 Ancud\n",
      "Located city number 276 Linqu\n",
      "Located city number 277 Zakamensk\n",
      "Located city number 278 Jalu\n",
      "Failed to find city\n",
      "Located city number 279 General Roca\n",
      "Located city number 280 Nanortalik\n",
      "Located city number 281 Santa Maria\n",
      "Located city number 282 Ossora\n",
      "Located city number 283 Narsaq\n",
      "Located city number 284 Muscatine\n",
      "Located city number 285 Imbituba\n",
      "Located city number 286 Drayton Valley\n",
      "Located city number 287 Portland\n",
      "Located city number 288 Bougouni\n",
      "Located city number 289 Huilong\n",
      "Located city number 290 Jumla\n",
      "Located city number 291 Sabha\n",
      "Located city number 292 Paamiut\n",
      "Failed to find city\n",
      "Located city number 293 Svobodnyy\n",
      "Located city number 294 Cockburn Town\n",
      "Located city number 295 San Patricio\n",
      "Located city number 296 Sotik Post\n",
      "Located city number 297 Delhi\n",
      "Located city number 298 Kraskino\n",
      "Located city number 299 Puducherry\n",
      "Located city number 300 Baraúna\n",
      "Located city number 301 Anadyr\n",
      "Located city number 302 Pionerskiy\n",
      "Located city number 303 Half Moon Bay\n",
      "Located city number 304 Monchegorsk\n",
      "Located city number 305 Middelburg\n",
      "Located city number 306 Wewak\n",
      "Located city number 307 Bariloche\n",
      "Located city number 308 Vyaz'ma\n",
      "Located city number 309 Saldanha\n",
      "Located city number 310 Shihezi\n",
      "Located city number 311 Terråk\n",
      "Failed to find city\n",
      "Located city number 312 Tambacounda\n",
      "Located city number 313 Blackfoot\n",
      "Located city number 314 Lüderitz\n",
      "Located city number 315 Okhotsk\n",
      "Located city number 316 Rawson\n",
      "Located city number 317 Nicolás Bravo\n",
      "Located city number 318 Decatur\n",
      "Located city number 319 Nikolskoye\n",
      "Failed to find city\n",
      "Located city number 320 Xixiang\n",
      "Located city number 321 São Félix do Xingu\n",
      "Located city number 322 Aktobe\n",
      "Located city number 323 Celestún\n",
      "Located city number 324 Clyde River\n",
      "Located city number 325 Hidalgo\n",
      "Located city number 326 Larsnes\n",
      "Located city number 327 Carnarvon\n",
      "Located city number 328 Kawalu\n",
      "Located city number 329 Uyutnoye\n",
      "Failed to find city\n",
      "Failed to find city\n",
      "Located city number 330 St. Marys\n",
      "Located city number 331 Tulun\n",
      "Located city number 332 Devonport\n",
      "Located city number 333 Novyy Nekouz\n",
      "Located city number 334 East London\n",
      "Located city number 335 Wajima\n",
      "Located city number 336 Māngrol\n",
      "Located city number 337 Kupang\n",
      "Located city number 338 Hazorasp\n",
      "Located city number 339 Staraya Toropa\n",
      "Located city number 340 Albertville\n",
      "Located city number 341 Alice Springs\n",
      "Located city number 342 San Vicente\n",
      "Located city number 343 Alenquer\n",
      "Located city number 344 Tagusao\n",
      "Located city number 345 Cartagena del Chairá\n",
      "Failed to find city\n",
      "Located city number 346 Cascais\n",
      "Located city number 347 La Ronge\n",
      "Located city number 348 Puri\n",
      "Failed to find city\n",
      "Located city number 349 Jackson\n",
      "Located city number 350 Vuktyl\n",
      "Located city number 351 Florianópolis\n",
      "Located city number 352 Panjāb\n",
      "Located city number 353 Biskamzha\n",
      "Located city number 354 Cayenne\n",
      "Located city number 355 Carman\n",
      "Located city number 356 North Myrtle Beach\n",
      "Located city number 357 João Pinheiro\n",
      "Located city number 358 Dauphin\n",
      "Located city number 359 Moba\n",
      "Located city number 360 Akonolinga\n",
      "Located city number 361 Bontang\n",
      "Located city number 362 Honningsvåg\n",
      "Located city number 363 Juneau\n",
      "Located city number 364 Araouane\n",
      "Located city number 365 Provideniya\n",
      "Located city number 366 Kortkeros\n",
      "Located city number 367 Los Llanos de Aridane\n",
      "Located city number 368 Maningrida\n",
      "Located city number 369 Chapais\n",
      "Failed to find city\n",
      "Located city number 370 Sitka\n",
      "Located city number 371 Lázaro Cárdenas\n",
      "Located city number 372 Beloha\n",
      "Located city number 373 Rio Grande\n",
      "Failed to find city\n",
      "Failed to find city\n",
      "Located city number 374 Hammerfest\n",
      "Located city number 375 Abu Dhabi\n",
      "Located city number 376 Dolisie\n",
      "Located city number 377 Dārāb\n",
      "Located city number 378 Torit\n",
      "Located city number 379 Fontanka\n",
      "Located city number 380 Sola\n",
      "Failed to find city\n",
      "Located city number 381 Phuthaditjhaba\n",
      "Located city number 382 Bandundu Province\n",
      "Failed to find city\n",
      "Located city number 383 Nyazepetrovsk\n",
      "Located city number 384 Dapaong\n",
      "Located city number 385 Lensk\n",
      "Located city number 386 Camopi\n",
      "Located city number 387 Bull Savanna\n",
      "Located city number 388 Prince Albert\n",
      "Failed to find city\n",
      "Located city number 389 Inongo\n",
      "Located city number 390 Nador\n",
      "Located city number 391 Nizhniy Odes\n",
      "Failed to find city\n",
      "Located city number 392 Gander\n",
      "Located city number 393 Malakal\n",
      "Located city number 394 Nome\n",
      "Located city number 395 Brunswick\n",
      "Located city number 396 Tongliao\n",
      "Located city number 397 Cândido Mendes\n",
      "Located city number 398 Bassila\n",
      "Located city number 399 Sørland\n",
      "Located city number 400 Yokadouma\n",
      "Located city number 401 Jimma\n",
      "Failed to find city\n",
      "Located city number 402 Guider\n",
      "Located city number 403 Olinda\n",
      "Located city number 404 Vao\n",
      "Located city number 405 Guerrero Negro\n",
      "Located city number 406 Lorengau\n",
      "Located city number 407 Beni Suef\n",
      "Located city number 408 Dongsheng\n",
      "Located city number 409 Saurimo\n",
      "Located city number 410 Port-Cartier\n",
      "Located city number 411 Digapahandi\n",
      "Located city number 412 Lebu\n",
      "Failed to find city\n",
      "Located city number 413 Rūjiena\n",
      "Located city number 414 Manggar\n",
      "Located city number 415 Comodoro Rivadavia\n",
      "Failed to find city\n",
      "Located city number 416 Port Elizabeth\n",
      "Located city number 417 College\n",
      "Located city number 418 Myrtle Beach\n",
      "Located city number 419 Matamoros\n",
      "Located city number 420 Antofagasta\n",
      "Located city number 421 Naica\n",
      "Located city number 422 Miraflores\n",
      "Located city number 423 Sainte-Marie\n",
      "Located city number 424 Yumen\n",
      "Located city number 425 Tabuan\n",
      "Located city number 426 Lagos\n",
      "Located city number 427 Samut Songkhram\n",
      "Located city number 428 San Quintín\n",
      "Located city number 429 Kieta\n",
      "Located city number 430 Vawkavysk\n",
      "Located city number 431 Richards Bay\n",
      "Located city number 432 Nemuro\n",
      "Failed to find city\n",
      "Located city number 433 Gboko\n",
      "Located city number 434 Vidor\n",
      "Located city number 435 Mgandu\n",
      "Located city number 436 Aklavik\n",
      "Located city number 437 Darnah\n",
      "Located city number 438 Vardø\n",
      "Failed to find city\n",
      "Located city number 439 Loikaw\n",
      "Located city number 440 Fayaoué\n",
      "Located city number 441 Barreirinha\n",
      "Located city number 442 Sanquhar\n",
      "Located city number 443 Eureka\n",
      "Failed to find city\n",
      "Located city number 444 Angra dos Reis\n",
      "Failed to find city\n",
      "Located city number 445 Pando\n",
      "Located city number 446 Kununurra\n",
      "Located city number 447 Chara\n",
      "Located city number 448 Codrington\n",
      "Located city number 449 Saint-Joseph\n",
      "Located city number 450 Talisayan\n",
      "Located city number 451 Constitución\n",
      "Located city number 452 Kamenka\n",
      "Located city number 453 Jiquilisco\n",
      "Located city number 454 Sarangani\n",
      "Located city number 455 Methóni\n",
      "Located city number 456 Wejherowo\n",
      "Failed to find city\n",
      "Located city number 457 Keti Bandar\n",
      "Located city number 458 Rodolfo Sánchez Taboada\n",
      "Failed to find city\n",
      "Located city number 459 Falmouth\n",
      "Located city number 460 Martapura\n",
      "Located city number 461 Grindavik\n",
      "Failed to find city\n",
      "Located city number 462 Havelock\n",
      "Located city number 463 Penzance\n",
      "Located city number 464 Haines Junction\n",
      "Located city number 465 Mīnāb\n"
     ]
    },
    {
     "name": "stdout",
     "output_type": "stream",
     "text": [
      "Located city number 466 Staritsa\n",
      "Located city number 467 Beringovskiy\n",
      "Located city number 468 Vila Velha\n",
      "Located city number 469 Arkhara\n",
      "Located city number 470 Vanavara\n",
      "Located city number 471 Karratha\n",
      "Located city number 472 Malaya Purga\n",
      "Located city number 473 Tulagi\n",
      "Located city number 474 The Valley\n",
      "Located city number 475 Dondo\n",
      "Located city number 476 Mayumba\n",
      "Located city number 477 Boysun\n",
      "Located city number 478 Kempele\n",
      "Located city number 479 Turiaçu\n",
      "Located city number 480 Broome\n",
      "Located city number 481 Prince Rupert\n",
      "Located city number 482 Naryan-Mar\n",
      "Located city number 483 Homer\n",
      "Located city number 484 Muroto-misakicho\n",
      "Located city number 485 Laredo\n",
      "Located city number 486 Siniscola\n",
      "Located city number 487 Edelira\n",
      "Located city number 488 Collie\n",
      "Located city number 489 Puerto Maldonado\n",
      "Located city number 490 Alofi\n",
      "Located city number 491 Agüimes\n",
      "Failed to find city\n",
      "Failed to find city\n",
      "Located city number 492 Bonthe\n",
      "Located city number 493 Sakaiminato\n",
      "Located city number 494 Sambava\n",
      "Located city number 495 Athabasca\n",
      "Located city number 496 Kérouané\n",
      "Located city number 497 Souillac\n",
      "Located city number 498 Kumul\n",
      "Located city number 499 Hoskote\n",
      "Located city number 500 Skaerbaek\n",
      "Failed to find city\n",
      "Located city number 501 Mitú\n",
      "Located city number 502 Okha\n",
      "Located city number 503 Laas\n",
      "Located city number 504 Akureyri\n",
      "Located city number 505 Micco\n",
      "Located city number 506 Makakilo City\n",
      "Located city number 507 Doka\n",
      "Located city number 508 Solwezi\n",
      "Located city number 509 Whitianga\n",
      "Located city number 510 St. George's\n",
      "Located city number 511 Iskateley\n",
      "Located city number 512 Pershotravneve\n",
      "Located city number 513 Shenjiamen\n",
      "Located city number 514 Minot\n",
      "Failed to find city\n",
      "Located city number 515 Aripuanã\n",
      "Located city number 516 Isiro\n",
      "Located city number 517 Malartic\n",
      "Located city number 518 Korla\n",
      "Located city number 519 Udachny\n",
      "Located city number 520 ‘Āhuimanu\n",
      "Located city number 521 Sakata\n",
      "Located city number 522 Apache Junction\n",
      "Located city number 523 Goundam\n",
      "Located city number 524 Kawambwa\n",
      "Located city number 525 Flin Flon\n",
      "Located city number 526 Nyagan\n",
      "Located city number 527 Shizunai-furukawachō\n",
      "Located city number 528 Columbia\n",
      "Located city number 529 Carbonia\n",
      "Located city number 530 Atar\n",
      "Located city number 531 Saravena\n",
      "Located city number 532 Waitati\n",
      "Located city number 533 Dhidhdhoo\n",
      "Located city number 534 Samarai\n",
      "Located city number 535 Ulladulla\n",
      "Located city number 536 Izumo\n",
      "Located city number 537 Walvis Bay\n",
      "Located city number 538 Vanderhoof\n",
      "Located city number 539 Talas\n",
      "Located city number 540 Salalah\n",
      "Located city number 541 Arman'\n",
      "Located city number 542 Pithora\n",
      "Located city number 543 Yulara\n",
      "Located city number 544 Turka\n",
      "Located city number 545 Kemlya\n",
      "Located city number 546 Ciudad Ojeda\n",
      "Located city number 547 Presidencia Roque Sáenz Peña\n",
      "Located city number 548 Xining\n",
      "Located city number 549 Saint Anthony\n",
      "Located city number 550 Iguaba Grande\n",
      "Located city number 551 Urusha\n",
      "Located city number 552 Harper\n",
      "Located city number 553 Kruisfontein\n",
      "Located city number 554 Copiapó\n",
      "Located city number 555 Sechura\n",
      "Located city number 556 Bakel\n",
      "Located city number 557 Kashima\n",
      "Located city number 558 Conceição do Araguaia\n",
      "Located city number 559 Behbahān\n",
      "Located city number 560 Gopāmau\n",
      "Located city number 561 Esmeraldas\n",
      "Located city number 562 Bako\n",
      "Located city number 563 Peniche\n",
      "Located city number 564 Puerto Carreño\n",
      "Located city number 565 Pocatello\n",
      "Failed to find city\n",
      "Located city number 566 Bayburt\n",
      "Located city number 567 Quatre Cocos\n",
      "Located city number 568 Ignacio Zaragoza\n"
     ]
    }
   ],
   "source": [
    "test_cities = [\"butaritari\", \"cape town\", \"insanity town\"]\n",
    "url = \"http://api.openweathermap.org/data/2.5/weather?\"\n",
    "api_key = weather_api_key\n",
    "units = \"metric\"\n",
    "query_url = f\"{url}appid={api_key}&units={units}&q=\"\n",
    "\n",
    "\n",
    "\n",
    "\n",
    "name = []\n",
    "lati = []\n",
    "lngi = []\n",
    "max_temp = []\n",
    "humidity = []\n",
    "cloudiness = []\n",
    "wind_speed = []\n",
    "country = []\n",
    "date = []\n",
    "count = 0\n",
    "\n",
    "\n",
    "for city in cities:\n",
    "    try:\n",
    "        response = requests.get(query_url + city).json()\n",
    "        name.append(response[\"name\"])\n",
    "        lati.append(response[\"coord\"][\"lat\"])\n",
    "        lngi.append(response[\"coord\"][\"lon\"])\n",
    "        max_temp.append(response[\"main\"][\"temp_max\"])\n",
    "        humidity.append(response[\"main\"][\"humidity\"])\n",
    "        cloudiness.append(response[\"clouds\"][\"all\"])\n",
    "        wind_speed.append(response[\"wind\"][\"speed\"])\n",
    "        country.append(response[\"sys\"][\"country\"])\n",
    "        date.append(response[\"dt\"])\n",
    "        count +=1\n",
    "        print(f\"Located city number {count} \" + response[\"name\"])\n",
    "    except (KeyError, IndexError):\n",
    "        print(\"Failed to find city\")\n",
    "\n"
   ]
  },
  {
   "cell_type": "code",
   "execution_count": 45,
   "metadata": {},
   "outputs": [],
   "source": [
    "weather = {\n",
    "    \"City\": name,\n",
    "    \"Lat\": lati,\n",
    "    \"Long\": lngi,\n",
    "    \"Temp (C)\": max_temp,\n",
    "    \"Humidity\": humidity,\n",
    "    \"Cloudiness\": cloudiness,\n",
    "    \"Wind Speed\": wind_speed,\n",
    "    \"Country\": country,\n",
    "    \"GMT\": date}\n",
    "\n",
    "weather_df = pd.DataFrame(weather)\n"
   ]
  },
  {
   "cell_type": "code",
   "execution_count": 46,
   "metadata": {},
   "outputs": [
    {
     "data": {
      "text/html": [
       "<div>\n",
       "<style scoped>\n",
       "    .dataframe tbody tr th:only-of-type {\n",
       "        vertical-align: middle;\n",
       "    }\n",
       "\n",
       "    .dataframe tbody tr th {\n",
       "        vertical-align: top;\n",
       "    }\n",
       "\n",
       "    .dataframe thead th {\n",
       "        text-align: right;\n",
       "    }\n",
       "</style>\n",
       "<table border=\"1\" class=\"dataframe\">\n",
       "  <thead>\n",
       "    <tr style=\"text-align: right;\">\n",
       "      <th></th>\n",
       "      <th>City</th>\n",
       "      <th>Lat</th>\n",
       "      <th>Long</th>\n",
       "      <th>Temp (C)</th>\n",
       "      <th>Humidity</th>\n",
       "      <th>Cloudiness</th>\n",
       "      <th>Wind Speed</th>\n",
       "      <th>Country</th>\n",
       "      <th>GMT</th>\n",
       "    </tr>\n",
       "  </thead>\n",
       "  <tbody>\n",
       "    <tr>\n",
       "      <th>0</th>\n",
       "      <td>Khatanga</td>\n",
       "      <td>71.97</td>\n",
       "      <td>102.50</td>\n",
       "      <td>-13.99</td>\n",
       "      <td>86</td>\n",
       "      <td>12</td>\n",
       "      <td>3.90</td>\n",
       "      <td>RU</td>\n",
       "      <td>1603043205</td>\n",
       "    </tr>\n",
       "    <tr>\n",
       "      <th>1</th>\n",
       "      <td>Tiksi</td>\n",
       "      <td>71.69</td>\n",
       "      <td>128.87</td>\n",
       "      <td>-7.52</td>\n",
       "      <td>96</td>\n",
       "      <td>100</td>\n",
       "      <td>8.05</td>\n",
       "      <td>RU</td>\n",
       "      <td>1603043205</td>\n",
       "    </tr>\n",
       "    <tr>\n",
       "      <th>2</th>\n",
       "      <td>Castro</td>\n",
       "      <td>-24.79</td>\n",
       "      <td>-50.01</td>\n",
       "      <td>20.33</td>\n",
       "      <td>74</td>\n",
       "      <td>100</td>\n",
       "      <td>3.57</td>\n",
       "      <td>BR</td>\n",
       "      <td>1603043205</td>\n",
       "    </tr>\n",
       "    <tr>\n",
       "      <th>3</th>\n",
       "      <td>Rodrigues Alves</td>\n",
       "      <td>-7.74</td>\n",
       "      <td>-72.65</td>\n",
       "      <td>35.41</td>\n",
       "      <td>37</td>\n",
       "      <td>69</td>\n",
       "      <td>1.51</td>\n",
       "      <td>BR</td>\n",
       "      <td>1603043205</td>\n",
       "    </tr>\n",
       "    <tr>\n",
       "      <th>4</th>\n",
       "      <td>Punta Arenas</td>\n",
       "      <td>-53.15</td>\n",
       "      <td>-70.92</td>\n",
       "      <td>8.00</td>\n",
       "      <td>65</td>\n",
       "      <td>75</td>\n",
       "      <td>10.80</td>\n",
       "      <td>CL</td>\n",
       "      <td>1603043072</td>\n",
       "    </tr>\n",
       "    <tr>\n",
       "      <th>...</th>\n",
       "      <td>...</td>\n",
       "      <td>...</td>\n",
       "      <td>...</td>\n",
       "      <td>...</td>\n",
       "      <td>...</td>\n",
       "      <td>...</td>\n",
       "      <td>...</td>\n",
       "      <td>...</td>\n",
       "      <td>...</td>\n",
       "    </tr>\n",
       "    <tr>\n",
       "      <th>563</th>\n",
       "      <td>Puerto Carreño</td>\n",
       "      <td>6.19</td>\n",
       "      <td>-67.49</td>\n",
       "      <td>32.49</td>\n",
       "      <td>54</td>\n",
       "      <td>48</td>\n",
       "      <td>0.48</td>\n",
       "      <td>CO</td>\n",
       "      <td>1603043003</td>\n",
       "    </tr>\n",
       "    <tr>\n",
       "      <th>564</th>\n",
       "      <td>Pocatello</td>\n",
       "      <td>42.87</td>\n",
       "      <td>-112.45</td>\n",
       "      <td>13.89</td>\n",
       "      <td>24</td>\n",
       "      <td>40</td>\n",
       "      <td>11.80</td>\n",
       "      <td>US</td>\n",
       "      <td>1603043002</td>\n",
       "    </tr>\n",
       "    <tr>\n",
       "      <th>565</th>\n",
       "      <td>Bayburt</td>\n",
       "      <td>40.26</td>\n",
       "      <td>40.23</td>\n",
       "      <td>12.17</td>\n",
       "      <td>36</td>\n",
       "      <td>17</td>\n",
       "      <td>1.30</td>\n",
       "      <td>TR</td>\n",
       "      <td>1603043259</td>\n",
       "    </tr>\n",
       "    <tr>\n",
       "      <th>566</th>\n",
       "      <td>Quatre Cocos</td>\n",
       "      <td>-20.21</td>\n",
       "      <td>57.76</td>\n",
       "      <td>24.00</td>\n",
       "      <td>69</td>\n",
       "      <td>40</td>\n",
       "      <td>3.60</td>\n",
       "      <td>MU</td>\n",
       "      <td>1603043259</td>\n",
       "    </tr>\n",
       "    <tr>\n",
       "      <th>567</th>\n",
       "      <td>Ignacio Zaragoza</td>\n",
       "      <td>28.38</td>\n",
       "      <td>-107.22</td>\n",
       "      <td>25.00</td>\n",
       "      <td>30</td>\n",
       "      <td>6</td>\n",
       "      <td>1.79</td>\n",
       "      <td>MX</td>\n",
       "      <td>1603043259</td>\n",
       "    </tr>\n",
       "  </tbody>\n",
       "</table>\n",
       "<p>568 rows × 9 columns</p>\n",
       "</div>"
      ],
      "text/plain": [
       "                 City    Lat    Long  Temp (C)  Humidity  Cloudiness  \\\n",
       "0            Khatanga  71.97  102.50    -13.99        86          12   \n",
       "1               Tiksi  71.69  128.87     -7.52        96         100   \n",
       "2              Castro -24.79  -50.01     20.33        74         100   \n",
       "3     Rodrigues Alves  -7.74  -72.65     35.41        37          69   \n",
       "4        Punta Arenas -53.15  -70.92      8.00        65          75   \n",
       "..                ...    ...     ...       ...       ...         ...   \n",
       "563    Puerto Carreño   6.19  -67.49     32.49        54          48   \n",
       "564         Pocatello  42.87 -112.45     13.89        24          40   \n",
       "565           Bayburt  40.26   40.23     12.17        36          17   \n",
       "566      Quatre Cocos -20.21   57.76     24.00        69          40   \n",
       "567  Ignacio Zaragoza  28.38 -107.22     25.00        30           6   \n",
       "\n",
       "     Wind Speed Country         GMT  \n",
       "0          3.90      RU  1603043205  \n",
       "1          8.05      RU  1603043205  \n",
       "2          3.57      BR  1603043205  \n",
       "3          1.51      BR  1603043205  \n",
       "4         10.80      CL  1603043072  \n",
       "..          ...     ...         ...  \n",
       "563        0.48      CO  1603043003  \n",
       "564       11.80      US  1603043002  \n",
       "565        1.30      TR  1603043259  \n",
       "566        3.60      MU  1603043259  \n",
       "567        1.79      MX  1603043259  \n",
       "\n",
       "[568 rows x 9 columns]"
      ]
     },
     "execution_count": 46,
     "metadata": {},
     "output_type": "execute_result"
    }
   ],
   "source": [
    "weather_df\n",
    "\n",
    "\n",
    "#Testing the json to find where the info lives\n",
    "#response = requests.get(query_url + \"Jersey City\").json()\n",
    "#print(json.dumps(response, indent=7, sort_keys=True))"
   ]
  },
  {
   "cell_type": "markdown",
   "metadata": {},
   "source": [
    "## Convert Raw Data to DataFrame\n",
    "* Save as csv"
   ]
  },
  {
   "cell_type": "code",
   "execution_count": 53,
   "metadata": {},
   "outputs": [],
   "source": [
    "weather_df.to_csv('../output_data/the_cities.csv', index = False)"
   ]
  },
  {
   "cell_type": "code",
   "execution_count": 54,
   "metadata": {},
   "outputs": [
    {
     "data": {
      "text/html": [
       "<div>\n",
       "<style scoped>\n",
       "    .dataframe tbody tr th:only-of-type {\n",
       "        vertical-align: middle;\n",
       "    }\n",
       "\n",
       "    .dataframe tbody tr th {\n",
       "        vertical-align: top;\n",
       "    }\n",
       "\n",
       "    .dataframe thead th {\n",
       "        text-align: right;\n",
       "    }\n",
       "</style>\n",
       "<table border=\"1\" class=\"dataframe\">\n",
       "  <thead>\n",
       "    <tr style=\"text-align: right;\">\n",
       "      <th></th>\n",
       "      <th>City</th>\n",
       "      <th>Lat</th>\n",
       "      <th>Long</th>\n",
       "      <th>Temp (C)</th>\n",
       "      <th>Humidity</th>\n",
       "      <th>Cloudiness</th>\n",
       "      <th>Wind Speed</th>\n",
       "      <th>Country</th>\n",
       "      <th>GMT</th>\n",
       "    </tr>\n",
       "  </thead>\n",
       "  <tbody>\n",
       "    <tr>\n",
       "      <th>0</th>\n",
       "      <td>Khatanga</td>\n",
       "      <td>71.97</td>\n",
       "      <td>102.50</td>\n",
       "      <td>-13.99</td>\n",
       "      <td>86</td>\n",
       "      <td>12</td>\n",
       "      <td>3.90</td>\n",
       "      <td>RU</td>\n",
       "      <td>1603043205</td>\n",
       "    </tr>\n",
       "    <tr>\n",
       "      <th>1</th>\n",
       "      <td>Tiksi</td>\n",
       "      <td>71.69</td>\n",
       "      <td>128.87</td>\n",
       "      <td>-7.52</td>\n",
       "      <td>96</td>\n",
       "      <td>100</td>\n",
       "      <td>8.05</td>\n",
       "      <td>RU</td>\n",
       "      <td>1603043205</td>\n",
       "    </tr>\n",
       "    <tr>\n",
       "      <th>2</th>\n",
       "      <td>Castro</td>\n",
       "      <td>-24.79</td>\n",
       "      <td>-50.01</td>\n",
       "      <td>20.33</td>\n",
       "      <td>74</td>\n",
       "      <td>100</td>\n",
       "      <td>3.57</td>\n",
       "      <td>BR</td>\n",
       "      <td>1603043205</td>\n",
       "    </tr>\n",
       "    <tr>\n",
       "      <th>3</th>\n",
       "      <td>Rodrigues Alves</td>\n",
       "      <td>-7.74</td>\n",
       "      <td>-72.65</td>\n",
       "      <td>35.41</td>\n",
       "      <td>37</td>\n",
       "      <td>69</td>\n",
       "      <td>1.51</td>\n",
       "      <td>BR</td>\n",
       "      <td>1603043205</td>\n",
       "    </tr>\n",
       "    <tr>\n",
       "      <th>4</th>\n",
       "      <td>Punta Arenas</td>\n",
       "      <td>-53.15</td>\n",
       "      <td>-70.92</td>\n",
       "      <td>8.00</td>\n",
       "      <td>65</td>\n",
       "      <td>75</td>\n",
       "      <td>10.80</td>\n",
       "      <td>CL</td>\n",
       "      <td>1603043072</td>\n",
       "    </tr>\n",
       "    <tr>\n",
       "      <th>...</th>\n",
       "      <td>...</td>\n",
       "      <td>...</td>\n",
       "      <td>...</td>\n",
       "      <td>...</td>\n",
       "      <td>...</td>\n",
       "      <td>...</td>\n",
       "      <td>...</td>\n",
       "      <td>...</td>\n",
       "      <td>...</td>\n",
       "    </tr>\n",
       "    <tr>\n",
       "      <th>563</th>\n",
       "      <td>Puerto Carreño</td>\n",
       "      <td>6.19</td>\n",
       "      <td>-67.49</td>\n",
       "      <td>32.49</td>\n",
       "      <td>54</td>\n",
       "      <td>48</td>\n",
       "      <td>0.48</td>\n",
       "      <td>CO</td>\n",
       "      <td>1603043003</td>\n",
       "    </tr>\n",
       "    <tr>\n",
       "      <th>564</th>\n",
       "      <td>Pocatello</td>\n",
       "      <td>42.87</td>\n",
       "      <td>-112.45</td>\n",
       "      <td>13.89</td>\n",
       "      <td>24</td>\n",
       "      <td>40</td>\n",
       "      <td>11.80</td>\n",
       "      <td>US</td>\n",
       "      <td>1603043002</td>\n",
       "    </tr>\n",
       "    <tr>\n",
       "      <th>565</th>\n",
       "      <td>Bayburt</td>\n",
       "      <td>40.26</td>\n",
       "      <td>40.23</td>\n",
       "      <td>12.17</td>\n",
       "      <td>36</td>\n",
       "      <td>17</td>\n",
       "      <td>1.30</td>\n",
       "      <td>TR</td>\n",
       "      <td>1603043259</td>\n",
       "    </tr>\n",
       "    <tr>\n",
       "      <th>566</th>\n",
       "      <td>Quatre Cocos</td>\n",
       "      <td>-20.21</td>\n",
       "      <td>57.76</td>\n",
       "      <td>24.00</td>\n",
       "      <td>69</td>\n",
       "      <td>40</td>\n",
       "      <td>3.60</td>\n",
       "      <td>MU</td>\n",
       "      <td>1603043259</td>\n",
       "    </tr>\n",
       "    <tr>\n",
       "      <th>567</th>\n",
       "      <td>Ignacio Zaragoza</td>\n",
       "      <td>28.38</td>\n",
       "      <td>-107.22</td>\n",
       "      <td>25.00</td>\n",
       "      <td>30</td>\n",
       "      <td>6</td>\n",
       "      <td>1.79</td>\n",
       "      <td>MX</td>\n",
       "      <td>1603043259</td>\n",
       "    </tr>\n",
       "  </tbody>\n",
       "</table>\n",
       "<p>568 rows × 9 columns</p>\n",
       "</div>"
      ],
      "text/plain": [
       "                 City    Lat    Long  Temp (C)  Humidity  Cloudiness  \\\n",
       "0            Khatanga  71.97  102.50    -13.99        86          12   \n",
       "1               Tiksi  71.69  128.87     -7.52        96         100   \n",
       "2              Castro -24.79  -50.01     20.33        74         100   \n",
       "3     Rodrigues Alves  -7.74  -72.65     35.41        37          69   \n",
       "4        Punta Arenas -53.15  -70.92      8.00        65          75   \n",
       "..                ...    ...     ...       ...       ...         ...   \n",
       "563    Puerto Carreño   6.19  -67.49     32.49        54          48   \n",
       "564         Pocatello  42.87 -112.45     13.89        24          40   \n",
       "565           Bayburt  40.26   40.23     12.17        36          17   \n",
       "566      Quatre Cocos -20.21   57.76     24.00        69          40   \n",
       "567  Ignacio Zaragoza  28.38 -107.22     25.00        30           6   \n",
       "\n",
       "     Wind Speed Country         GMT  \n",
       "0          3.90      RU  1603043205  \n",
       "1          8.05      RU  1603043205  \n",
       "2          3.57      BR  1603043205  \n",
       "3          1.51      BR  1603043205  \n",
       "4         10.80      CL  1603043072  \n",
       "..          ...     ...         ...  \n",
       "563        0.48      CO  1603043003  \n",
       "564       11.80      US  1603043002  \n",
       "565        1.30      TR  1603043259  \n",
       "566        3.60      MU  1603043259  \n",
       "567        1.79      MX  1603043259  \n",
       "\n",
       "[568 rows x 9 columns]"
      ]
     },
     "execution_count": 54,
     "metadata": {},
     "output_type": "execute_result"
    }
   ],
   "source": [
    "path = \"../output_data/the_cities.csv\"\n",
    "safe_df = pd.read_csv(path)\n",
    "safe_df"
   ]
  },
  {
   "cell_type": "markdown",
   "metadata": {},
   "source": [
    "## Plotting the Data\n",
    "* Use proper labeling of the plots using plot titles (including date of analysis) and axes labels.\n",
    "* Save the plotted figures as .pngs."
   ]
  },
  {
   "cell_type": "markdown",
   "metadata": {},
   "source": [
    "### Latitude vs. Temperature Plot"
   ]
  },
  {
   "cell_type": "code",
   "execution_count": 82,
   "metadata": {
    "scrolled": true
   },
   "outputs": [
    {
     "data": {
      "image/png": "[encoded data removed]",
      "text/plain": [
       "<Figure size 432x288 with 1 Axes>"
      ]
     },
     "metadata": {
      "needs_background": "light"
     },
     "output_type": "display_data"
    },
    {
     "data": {
      "text/plain": [
       "<Figure size 432x288 with 0 Axes>"
      ]
     },
     "metadata": {},
     "output_type": "display_data"
    }
   ],
   "source": [
    "x_values = safe_df['Lat']\n",
    "y_values = safe_df['Temp (C)']\n",
    "plt.scatter(x_values,y_values)\n",
    "plt.xlabel('Latitude')\n",
    "plt.ylabel('Max Temperature (C)')\n",
    "plt.title(\"City Latitude vs. Max Temperature (10/15/20)\")\n",
    "plt.show()\n",
    "plt.savefig('../output_data/lat_vs_temp.png')\n",
    "\n",
    "#As the latitude increases the temperature values decrease.\n"
   ]
  },
  {
   "cell_type": "markdown",
   "metadata": {},
   "source": [
    "### Latitude vs. Humidity Plot"
   ]
  },
  {
   "cell_type": "code",
   "execution_count": 83,
   "metadata": {},
   "outputs": [
    {
     "data": {
      "image/png": "[encoded data removed]",
      "text/plain": [
       "<Figure size 432x288 with 1 Axes>"
      ]
     },
     "metadata": {
      "needs_background": "light"
     },
     "output_type": "display_data"
    }
   ],
   "source": [
    "x_values2 = safe_df['Lat']\n",
    "y_values2 = safe_df['Humidity']\n",
    "plt.scatter(x_values2,y_values2)\n",
    "plt.xlabel('Latitude')\n",
    "plt.ylabel('Humidity')\n",
    "plt.title(\"City Latitude vs. Humidity (10/15/20)\")\n",
    "plt.savefig('../output_data/lat_vs_hum.png')\n",
    "plt.show()"
   ]
  },
  {
   "cell_type": "markdown",
   "metadata": {},
   "source": [
    "### Latitude vs. Cloudiness Plot"
   ]
  },
  {
   "cell_type": "code",
   "execution_count": 84,
   "metadata": {},
   "outputs": [
    {
     "data": {
      "image/png": "[encoded data removed]",
      "text/plain": [
       "<Figure size 432x288 with 1 Axes>"
      ]
     },
     "metadata": {
      "needs_background": "light"
     },
     "output_type": "display_data"
    }
   ],
   "source": [
    "x_values3 = safe_df['Lat']\n",
    "y_values3 = safe_df['Cloudiness']\n",
    "plt.scatter(x_values3,y_values3)\n",
    "plt.xlabel('Latitude')\n",
    "plt.ylabel('Cloudiness')\n",
    "plt.title(\"City Latitude vs. Cloudiness (10/15/20)\")\n",
    "plt.savefig('../output_data/lat_vs_cloud.png')\n",
    "plt.show()"
   ]
  },
  {
   "cell_type": "markdown",
   "metadata": {},
   "source": [
    "### Latitude vs. Wind Speed Plot"
   ]
  },
  {
   "cell_type": "code",
   "execution_count": 85,
   "metadata": {},
   "outputs": [
    {
     "data": {
      "image/png": "[encoded data removed]",
      "text/plain": [
       "<Figure size 432x288 with 1 Axes>"
      ]
     },
     "metadata": {
      "needs_background": "light"
     },
     "output_type": "display_data"
    }
   ],
   "source": [
    "x_values4 = safe_df['Lat']\n",
    "y_values4 = safe_df['Wind Speed']\n",
    "plt.scatter(x_values4,y_values4)\n",
    "plt.xlabel('Latitude')\n",
    "plt.ylabel('Wind Speed')\n",
    "plt.title(\"City Latitude vs. Wind Speed (10/15/20)\")\n",
    "plt.savefig('../output_data/lat_vs_wind.png')\n",
    "plt.show()"
   ]
  },
  {
   "cell_type": "markdown",
   "metadata": {},
   "source": [
    "## Linear Regression"
   ]
  },
  {
   "cell_type": "markdown",
   "metadata": {},
   "source": [
    "### Write linear regression plot function (optional)"
   ]
  },
  {
   "cell_type": "code",
   "execution_count": 79,
   "metadata": {},
   "outputs": [],
   "source": [
    "north = safe_df.loc[safe_df[\"Lat\"] >= 0]\n",
    "south = safe_df.loc[safe_df[\"Lat\"] < 0]\n"
   ]
  },
  {
   "cell_type": "markdown",
   "metadata": {},
   "source": [
    "###  Northern Hemisphere - Max Temp vs. Latitude Linear Regression"
   ]
  },
  {
   "cell_type": "code",
   "execution_count": 86,
   "metadata": {},
   "outputs": [
    {
     "name": "stdout",
     "output_type": "stream",
     "text": [
      "The r-squared is: 0.7797453510368206\n"
     ]
    },
    {
     "data": {
      "image/png": "[encoded data removed]",
      "text/plain": [
       "<Figure size 432x288 with 1 Axes>"
      ]
     },
     "metadata": {
      "needs_background": "light"
     },
     "output_type": "display_data"
    },
    {
     "data": {
      "text/plain": [
       "<Figure size 432x288 with 0 Axes>"
      ]
     },
     "metadata": {},
     "output_type": "display_data"
    }
   ],
   "source": [
    "\n",
    "x = north[\"Lat\"]\n",
    "y = north['Temp (C)']\n",
    "(slope, intercept, rvalue, pvalue, stderr) = linregress(x, y)\n",
    "regress_values = x * slope + intercept\n",
    "line_eq = \"y = \" + str(round(slope,2)) + \"x + \" + str(round(intercept,2))\n",
    "plt.scatter(x,y)\n",
    "plt.plot(x,regress_values,\"r-\")\n",
    "plt.annotate(line_eq,(6,-10),fontsize=15,color=\"red\")\n",
    "plt.xlabel('Latitude')\n",
    "plt.ylabel('Max Temp (C)')\n",
    "\n",
    "print(f\"The r-squared is: {rvalue**2}\")\n",
    "plt.show()\n",
    "plt.savefig('../output_data/northlat_vs_temp.png')"
   ]
  },
  {
   "cell_type": "markdown",
   "metadata": {},
   "source": [
    "###  Southern Hemisphere - Max Temp vs. Latitude Linear Regression"
   ]
  },
  {
   "cell_type": "code",
   "execution_count": 87,
   "metadata": {},
   "outputs": [
    {
     "name": "stdout",
     "output_type": "stream",
     "text": [
      "The r-squared is: 0.42396831458207135\n"
     ]
    },
    {
     "data": {
      "image/png": "[encoded data removed]",
      "text/plain": [
       "<Figure size 432x288 with 1 Axes>"
      ]
     },
     "metadata": {
      "needs_background": "light"
     },
     "output_type": "display_data"
    },
    {
     "data": {
      "text/plain": [
       "<Figure size 432x288 with 0 Axes>"
      ]
     },
     "metadata": {},
     "output_type": "display_data"
    }
   ],
   "source": [
    "x2 = south[\"Lat\"]\n",
    "y2 = south['Temp (C)']\n",
    "(slope, intercept, rvalue, pvalue, stderr) = linregress(x2, y2)\n",
    "regress_values = x2 * slope + intercept\n",
    "line_eq = \"y = \" + str(round(slope,2)) + \"x + \" + str(round(intercept,2))\n",
    "plt.scatter(x2,y2)\n",
    "plt.plot(x2,regress_values,\"r-\")\n",
    "plt.annotate(line_eq,(-50,35),fontsize=15,color=\"red\")\n",
    "plt.xlabel('Latitude')\n",
    "plt.ylabel('Max Temp (C)')\n",
    "\n",
    "print(f\"The r-squared is: {rvalue**2}\")\n",
    "plt.show()\n",
    "plt.savefig('../output_data/southlat_vs_temp.png')"
   ]
  },
  {
   "cell_type": "markdown",
   "metadata": {},
   "source": [
    "###  Northern Hemisphere - Humidity (%) vs. Latitude Linear Regression"
   ]
  },
  {
   "cell_type": "code",
   "execution_count": 88,
   "metadata": {},
   "outputs": [
    {
     "name": "stdout",
     "output_type": "stream",
     "text": [
      "The r-squared is: 0.11750944876164056\n"
     ]
    },
    {
     "data": {
      "image/png": "[encoded data removed]",
      "text/plain": [
       "<Figure size 432x288 with 1 Axes>"
      ]
     },
     "metadata": {
      "needs_background": "light"
     },
     "output_type": "display_data"
    },
    {
     "data": {
      "text/plain": [
       "<Figure size 432x288 with 0 Axes>"
      ]
     },
     "metadata": {},
     "output_type": "display_data"
    }
   ],
   "source": [
    "x2 = north[\"Lat\"]\n",
    "y2 = north['Humidity']\n",
    "(slope, intercept, rvalue, pvalue, stderr) = linregress(x2, y2)\n",
    "regress_values = x2 * slope + intercept\n",
    "line_eq = \"y = \" + str(round(slope,2)) + \"x + \" + str(round(intercept,2))\n",
    "plt.scatter(x2,y2)\n",
    "plt.plot(x2,regress_values,\"r-\")\n",
    "plt.annotate(line_eq,(30,20),fontsize=15,color=\"red\")\n",
    "plt.xlabel('Latitude')\n",
    "plt.ylabel('Max Temp (C)')\n",
    "\n",
    "print(f\"The r-squared is: {rvalue**2}\")\n",
    "plt.show()\n",
    "plt.savefig('../output_data/northlat_vs_hum.png')"
   ]
  },
  {
   "cell_type": "markdown",
   "metadata": {},
   "source": [
    "###  Southern Hemisphere - Humidity (%) vs. Latitude Linear Regression"
   ]
  },
  {
   "cell_type": "code",
   "execution_count": 89,
   "metadata": {},
   "outputs": [
    {
     "name": "stdout",
     "output_type": "stream",
     "text": [
      "The r-squared is: 0.42396831458207135\n"
     ]
    },
    {
     "data": {
      "image/png": "[encoded data removed]",
      "text/plain": [
       "<Figure size 432x288 with 1 Axes>"
      ]
     },
     "metadata": {
      "needs_background": "light"
     },
     "output_type": "display_data"
    },
    {
     "data": {
      "text/plain": [
       "<Figure size 432x288 with 0 Axes>"
      ]
     },
     "metadata": {},
     "output_type": "display_data"
    }
   ],
   "source": [
    "x2 = south[\"Lat\"]\n",
    "y2 = south['Temp (C)']\n",
    "(slope, intercept, rvalue, pvalue, stderr) = linregress(x2, y2)\n",
    "regress_values = x2 * slope + intercept\n",
    "line_eq = \"y = \" + str(round(slope,2)) + \"x + \" + str(round(intercept,2))\n",
    "plt.scatter(x2,y2)\n",
    "plt.plot(x2,regress_values,\"r-\")\n",
    "plt.annotate(line_eq,(-50,35),fontsize=15,color=\"red\")\n",
    "plt.xlabel('Latitude')\n",
    "plt.ylabel('Max Temp (C)')\n",
    "\n",
    "print(f\"The r-squared is: {rvalue**2}\")\n",
    "plt.show()\n",
    "plt.savefig('../output_data/southlat_vs_hum.png')"
   ]
  },
  {
   "cell_type": "markdown",
   "metadata": {},
   "source": [
    "###  Northern Hemisphere - Cloudiness (%) vs. Latitude Linear Regression"
   ]
  },
  {
   "cell_type": "code",
   "execution_count": 90,
   "metadata": {},
   "outputs": [
    {
     "name": "stdout",
     "output_type": "stream",
     "text": [
      "The r-squared is: 0.010926846965431364\n"
     ]
    },
    {
     "data": {
      "image/png": "[encoded data removed]",
      "text/plain": [
       "<Figure size 432x288 with 1 Axes>"
      ]
     },
     "metadata": {
      "needs_background": "light"
     },
     "output_type": "display_data"
    },
    {
     "data": {
      "text/plain": [
       "<Figure size 432x288 with 0 Axes>"
      ]
     },
     "metadata": {},
     "output_type": "display_data"
    }
   ],
   "source": [
    "x2 = north[\"Lat\"]\n",
    "y2 = north['Cloudiness']\n",
    "(slope, intercept, rvalue, pvalue, stderr) = linregress(x2, y2)\n",
    "regress_values = x2 * slope + intercept\n",
    "line_eq = \"y = \" + str(round(slope,2)) + \"x + \" + str(round(intercept,2))\n",
    "plt.scatter(x2,y2)\n",
    "plt.plot(x2,regress_values,\"r-\")\n",
    "plt.annotate(line_eq,(-50,35),fontsize=15,color=\"red\")\n",
    "plt.xlabel('Latitude')\n",
    "plt.ylabel('Max Temp (C)')\n",
    "\n",
    "print(f\"The r-squared is: {rvalue**2}\")\n",
    "plt.show()\n",
    "plt.savefig('../output_data/northlat_vs_cloud.png')"
   ]
  },
  {
   "cell_type": "markdown",
   "metadata": {},
   "source": [
    "###  Southern Hemisphere - Cloudiness (%) vs. Latitude Linear Regression"
   ]
  },
  {
   "cell_type": "code",
   "execution_count": 91,
   "metadata": {},
   "outputs": [
    {
     "name": "stdout",
     "output_type": "stream",
     "text": [
      "The r-squared is: 0.020610317579574978\n"
     ]
    },
    {
     "data": {
      "image/png": "[encoded data removed]",
      "text/plain": [
       "<Figure size 432x288 with 1 Axes>"
      ]
     },
     "metadata": {
      "needs_background": "light"
     },
     "output_type": "display_data"
    },
    {
     "data": {
      "text/plain": [
       "<Figure size 432x288 with 0 Axes>"
      ]
     },
     "metadata": {},
     "output_type": "display_data"
    }
   ],
   "source": [
    "x2 = south[\"Lat\"]\n",
    "y2 = south['Cloudiness']\n",
    "(slope, intercept, rvalue, pvalue, stderr) = linregress(x2, y2)\n",
    "regress_values = x2 * slope + intercept\n",
    "line_eq = \"y = \" + str(round(slope,2)) + \"x + \" + str(round(intercept,2))\n",
    "plt.scatter(x2,y2)\n",
    "plt.plot(x2,regress_values,\"r-\")\n",
    "plt.annotate(line_eq,(-50,35),fontsize=15,color=\"red\")\n",
    "plt.xlabel('Latitude')\n",
    "plt.ylabel('Max Temp (C)')\n",
    "\n",
    "print(f\"The r-squared is: {rvalue**2}\")\n",
    "plt.show()\n",
    "plt.savefig('../output_data/southlat_vs_cloud.png')"
   ]
  },
  {
   "cell_type": "markdown",
   "metadata": {},
   "source": [
    "###  Northern Hemisphere - Wind Speed (mph) vs. Latitude Linear Regression"
   ]
  },
  {
   "cell_type": "code",
   "execution_count": 92,
   "metadata": {},
   "outputs": [
    {
     "name": "stdout",
     "output_type": "stream",
     "text": [
      "The r-squared is: 0.02902390691603297\n"
     ]
    },
    {
     "data": {
      "image/png": "[encoded data removed]",
      "text/plain": [
       "<Figure size 432x288 with 1 Axes>"
      ]
     },
     "metadata": {
      "needs_background": "light"
     },
     "output_type": "display_data"
    },
    {
     "data": {
      "text/plain": [
       "<Figure size 432x288 with 0 Axes>"
      ]
     },
     "metadata": {},
     "output_type": "display_data"
    }
   ],
   "source": [
    "x2 = north[\"Lat\"]\n",
    "y2 = north['Wind Speed']\n",
    "(slope, intercept, rvalue, pvalue, stderr) = linregress(x2, y2)\n",
    "regress_values = x2 * slope + intercept\n",
    "line_eq = \"y = \" + str(round(slope,2)) + \"x + \" + str(round(intercept,2))\n",
    "plt.scatter(x2,y2)\n",
    "plt.plot(x2,regress_values,\"r-\")\n",
    "plt.annotate(line_eq,(20,12),fontsize=15,color=\"red\")\n",
    "plt.xlabel('Latitude')\n",
    "plt.ylabel('Max Temp (C)')\n",
    "\n",
    "print(f\"The r-squared is: {rvalue**2}\")\n",
    "plt.show()\n",
    "plt.savefig('../output_data/northlat_vs_wind.png')\n",
    "\n",
    "#As the latitude increases the temperature values become more concentrated.\n",
    "#the r squared value suggests no meaningful predictions."
   ]
  },
  {
   "cell_type": "markdown",
   "metadata": {},
   "source": [
    "###  Southern Hemisphere - Wind Speed (mph) vs. Latitude Linear Regression"
   ]
  },
  {
   "cell_type": "code",
   "execution_count": 93,
   "metadata": {},
   "outputs": [
    {
     "name": "stdout",
     "output_type": "stream",
     "text": [
      "The r-squared is: 0.03953313249747514\n"
     ]
    },
    {
     "data": {
      "image/png": "[encoded data removed]",
      "text/plain": [
       "<Figure size 432x288 with 1 Axes>"
      ]
     },
     "metadata": {
      "needs_background": "light"
     },
     "output_type": "display_data"
    },
    {
     "data": {
      "text/plain": [
       "<Figure size 432x288 with 0 Axes>"
      ]
     },
     "metadata": {},
     "output_type": "display_data"
    }
   ],
   "source": [
    "x2 = south[\"Lat\"]\n",
    "y2 = south['Wind Speed']\n",
    "(slope, intercept, rvalue, pvalue, stderr) = linregress(x2, y2)\n",
    "regress_values = x2 * slope + intercept\n",
    "line_eq = \"y = \" + str(round(slope,2)) + \"x + \" + str(round(intercept,2))\n",
    "plt.scatter(x2,y2)\n",
    "plt.plot(x2,regress_values,\"r-\")\n",
    "plt.annotate(line_eq,(-20,12),fontsize=15,color=\"red\")\n",
    "plt.xlabel('Latitude')\n",
    "plt.ylabel('Max Temp (C)')\n",
    "\n",
    "print(f\"The r-squared is: {rvalue**2}\")\n",
    "plt.show()\n",
    "plt.savefig('../output_data/southlat_vs_wind.png')\n",
    "\n",
    "#As the latitude increases the temperature values become more concentrated.\n",
    "#the r squared value suggests no meaningful predictions."
   ]
  },
  {
   "cell_type": "code",
   "execution_count": null,
   "metadata": {},
   "outputs": [],
   "source": []
  }
 ],
 "metadata": {
  "anaconda-cloud": {},
  "kernel_info": {
   "name": "python3"
  },
  "kernelspec": {
   "display_name": "Python 3",
   "language": "python",
   "name": "python3"
  },
  "language_info": {
   "codemirror_mode": {
    "name": "ipython",
    "version": 3
   },
   "file_extension": ".py",
   "mimetype": "text/x-python",
   "name": "python",
   "nbconvert_exporter": "python",
   "pygments_lexer": "ipython3",
   "version": "3.6.10"
  },
  "latex_envs": {
   "LaTeX_envs_menu_present": true,
   "autoclose": false,
   "autocomplete": true,
   "bibliofile": "biblio.bib",
   "cite_by": "apalike",
   "current_citInitial": 1,
   "eqLabelWithNumbers": true,
   "eqNumInitial": 1,
   "hotkeys": {
    "equation": "Ctrl-E",
    "itemize": "Ctrl-I"
   },
   "labels_anchors": false,
   "latex_user_defs": false,
   "report_style_numbering": false,
   "user_envs_cfg": false
  },
  "nteract": {
   "version": "0.12.3"
  },
  "toc": {
   "base_numbering": 1,
   "nav_menu": {},
   "number_sections": true,
   "sideBar": true,
   "skip_h1_title": false,
   "title_cell": "Table of Contents",
   "title_sidebar": "Contents",
   "toc_cell": false,
   "toc_position": {},
   "toc_section_display": true,
   "toc_window_display": false
  },
  "varInspector": {
   "cols": {
    "lenName": 16,
    "lenType": 16,
    "lenVar": 40
   },
   "kernels_config": {
    "python": {
     "delete_cmd_postfix": "",
     "delete_cmd_prefix": "del ",
     "library": "var_list.py",
     "varRefreshCmd": "print(var_dic_list())"
    },
    "r": {
     "delete_cmd_postfix": ") ",
     "delete_cmd_prefix": "rm(",
     "library": "var_list.r",
     "varRefreshCmd": "cat(var_dic_list()) "
    }
   },
   "types_to_exclude": [
    "module",
    "function",
    "builtin_function_or_method",
    "instance",
    "_Feature"
   ],
   "window_display": false
  }
 },
 "nbformat": 4,
 "nbformat_minor": 2
}
